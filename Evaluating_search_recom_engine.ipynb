{
 "cells": [
  {
   "cell_type": "markdown",
   "id": "0af8c593",
   "metadata": {},
   "source": [
    "## Evaluation Metrics for Search and Recommendation Systems"
   ]
  },
  {
   "cell_type": "markdown",
   "id": "91c98521",
   "metadata": {},
   "source": [
    "* **All of the following metrics can take values between 0 and 1, where higher values mean better performance. **"
   ]
  },
  {
   "cell_type": "code",
   "execution_count": 1,
   "id": "49cd9890",
   "metadata": {},
   "outputs": [
    {
     "name": "stdout",
     "output_type": "stream",
     "text": [
      "Collecting pytrec_eval\n",
      "  Downloading pytrec_eval-0.5.tar.gz (15 kB)\n",
      "  Preparing metadata (setup.py): started\n",
      "  Preparing metadata (setup.py): finished with status 'done'\n",
      "Building wheels for collected packages: pytrec_eval\n",
      "  Building wheel for pytrec_eval (setup.py): started\n",
      "  Building wheel for pytrec_eval (setup.py): finished with status 'error'\n",
      "  Running setup.py clean for pytrec_eval\n",
      "Failed to build pytrec_eval\n"
     ]
    },
    {
     "name": "stderr",
     "output_type": "stream",
     "text": [
      "  DEPRECATION: Building 'pytrec_eval' using the legacy setup.py bdist_wheel mechanism, which will be removed in a future version. pip 25.3 will enforce this behaviour change. A possible replacement is to use the standardized build interface by setting the `--use-pep517` option, (possibly combined with `--no-build-isolation`), or adding a `pyproject.toml` file to the source tree of 'pytrec_eval'. Discussion can be found at https://github.com/pypa/pip/issues/6334\n",
      "  error: subprocess-exited-with-error\n",
      "  \n",
      "  × python setup.py bdist_wheel did not run successfully.\n",
      "  │ exit code: 1\n",
      "  ╰─> [55 lines of output]\n",
      "      Fetching trec_eval from https://github.com/usnistgov/trec_eval/archive/v9.0.8.tar.gz.\n",
      "      C:\\Users\\amith\\AppData\\Local\\Temp\\pip-install-hbimvztc\\pytrec-eval_6b9c672f1a674826b2068c96a8300101\\setup.py:39: DeprecationWarning: Python 3.14 will, by default, filter extracted tar archives and reject files or modify their metadata. Use the filter argument to control this behavior.\n",
      "        trec_eval_archive.extractall(tmp_dir)\n",
      "      C:\\Users\\amith\\anaconda3\\envs\\torch_env\\Lib\\site-packages\\setuptools\\dist.py:599: SetuptoolsDeprecationWarning: Invalid dash-separated key 'description-file' in 'metadata' (setup.cfg), please use the underscore name 'description_file' instead.\n",
      "      !!\n",
      "      \n",
      "              ********************************************************************************\n",
      "              Usage of dash-separated 'description-file' will not be supported in future\n",
      "              versions. Please use the underscore name 'description_file' instead.\n",
      "      \n",
      "              By 2026-Mar-03, you need to update your project and remove deprecated calls\n",
      "              or your builds will no longer be supported.\n",
      "      \n",
      "              See https://setuptools.pypa.io/en/latest/userguide/declarative_config.html for details.\n",
      "              ********************************************************************************\n",
      "      \n",
      "      !!\n",
      "        opt = self._enforce_underscore(opt, section)\n",
      "      C:\\Users\\amith\\anaconda3\\envs\\torch_env\\Lib\\site-packages\\setuptools\\dist.py:599: SetuptoolsDeprecationWarning: Invalid dash-separated key 'description-file' in 'metadata' (setup.cfg), please use the underscore name 'description_file' instead.\n",
      "      !!\n",
      "      \n",
      "              ********************************************************************************\n",
      "              Usage of dash-separated 'description-file' will not be supported in future\n",
      "              versions. Please use the underscore name 'description_file' instead.\n",
      "              (Affected: pytrec_eval).\n",
      "      \n",
      "              By 2026-Mar-03, you need to update your project and remove deprecated calls\n",
      "              or your builds will no longer be supported.\n",
      "      \n",
      "              See https://setuptools.pypa.io/en/latest/userguide/declarative_config.html for details.\n",
      "              ********************************************************************************\n",
      "      \n",
      "      !!\n",
      "        opt = self._enforce_underscore(opt, section)\n",
      "      C:\\Users\\amith\\anaconda3\\envs\\torch_env\\Lib\\site-packages\\setuptools\\dist.py:759: SetuptoolsDeprecationWarning: License classifiers are deprecated.\n",
      "      !!\n",
      "      \n",
      "              ********************************************************************************\n",
      "              Please consider removing the following classifiers in favor of a SPDX license expression:\n",
      "      \n",
      "              License :: OSI Approved :: MIT License\n",
      "      \n",
      "              See https://packaging.python.org/en/latest/guides/writing-pyproject-toml/#license for details.\n",
      "              ********************************************************************************\n",
      "      \n",
      "      !!\n",
      "        self._finalize_license_expression()\n",
      "      running bdist_wheel\n",
      "      running build\n",
      "      running build_py\n",
      "      creating build\\lib.win-amd64-cpython-312\\pytrec_eval\n",
      "      copying py\\__init__.py -> build\\lib.win-amd64-cpython-312\\pytrec_eval\n",
      "      running build_ext\n",
      "      building 'pytrec_eval_ext' extension\n",
      "      error: Microsoft Visual C++ 14.0 or greater is required. Get it with \"Microsoft C++ Build Tools\": https://visualstudio.microsoft.com/visual-cpp-build-tools/\n",
      "      [end of output]\n",
      "  \n",
      "  note: This error originates from a subprocess, and is likely not a problem with pip.\n",
      "  ERROR: Failed building wheel for pytrec_eval\n",
      "ERROR: Failed to build installable wheels for some pyproject.toml based projects (pytrec_eval)\n"
     ]
    }
   ],
   "source": [
    "! pip install pytrec_eval"
   ]
  },
  {
   "cell_type": "markdown",
   "id": "3c7a4363",
   "metadata": {},
   "source": [
    "* the following evaluation metrics can be categorized into not rank-aware vs. rank-aware metrics. While not rank-aware metrics, such as precision and recall, only reflect the number of relevant items in the top K results, rank-aware metrics, such as MAP, MRR, and NDCG, consider the number of relevant items and their position in the list of results."
   ]
  },
  {
   "cell_type": "code",
   "execution_count": null,
   "id": "72b758ea",
   "metadata": {},
   "outputs": [],
   "source": []
  },
  {
   "cell_type": "markdown",
   "id": "6bf2c711",
   "metadata": {},
   "source": [
    "## Precision\n",
    "* The precision@K metric measures how many of the retrieved items are relevant. \n",
    "* This metric is not rank-aware and thus only considers the number of relevant results but not their order. \n",
    "* You can calculate precision@K by dividing the number of relevant items within the top K results by K."
   ]
  },
  {
   "attachments": {
    "image.png": {
     "image/png": "[encoded data removed]"
    }
   },
   "cell_type": "markdown",
   "id": "5886e458",
   "metadata": {},
   "source": [
    "![image.png](attachment:image.png)"
   ]
  },
  {
   "cell_type": "code",
   "execution_count": 2,
   "id": "410b1bfd",
   "metadata": {},
   "outputs": [
    {
     "ename": "ModuleNotFoundError",
     "evalue": "No module named 'pytrec_eval'",
     "output_type": "error",
     "traceback": [
      "\u001b[31m---------------------------------------------------------------------------\u001b[39m",
      "\u001b[31mModuleNotFoundError\u001b[39m                       Traceback (most recent call last)",
      "\u001b[36mCell\u001b[39m\u001b[36m \u001b[39m\u001b[32mIn[2]\u001b[39m\u001b[32m, line 1\u001b[39m\n\u001b[32m----> \u001b[39m\u001b[32m1\u001b[39m \u001b[38;5;28;01mimport\u001b[39;00m\u001b[38;5;250m \u001b[39m\u001b[34;01mpytrec_eval\u001b[39;00m\n",
      "\u001b[31mModuleNotFoundError\u001b[39m: No module named 'pytrec_eval'"
     ]
    }
   ],
   "source": [
    "import pytrec_eval\n"
   ]
  },
  {
   "cell_type": "markdown",
   "id": "76f8eef6",
   "metadata": {},
   "source": [
    "* qrel (Query Relevance Judgments)"
   ]
  },
  {
   "cell_type": "code",
   "execution_count": null,
   "id": "36059856",
   "metadata": {},
   "outputs": [],
   "source": [
    "\n",
    "qrel = {\n",
    "    'sweet pastry' : {\n",
    "        'donut' : 1,\n",
    "        'muffin' : 1,\n",
    "        'scone' : 1, \n",
    "    },\n",
    "}\n",
    "\n",
    "run = {\n",
    "    'sweet pastry' : {\n",
    "        'donut' : 0.95,\n",
    "        'bagel' : 0.9,\n",
    "        'muffin' : 0.8, \n",
    "        'croissant' : 0.7, \n",
    "    },\n",
    "}\n",
    "\n",
    "evaluator = pytrec_eval.RelevanceEvaluator(qrel, {'P.4'})\n",
    "results = evaluator.evaluate(run)"
   ]
  }
 ],
 "metadata": {
  "kernelspec": {
   "display_name": "torch_env",
   "language": "python",
   "name": "python3"
  },
  "language_info": {
   "codemirror_mode": {
    "name": "ipython",
    "version": 3
   },
   "file_extension": ".py",
   "mimetype": "text/x-python",
   "name": "python",
   "nbconvert_exporter": "python",
   "pygments_lexer": "ipython3",
   "version": "3.12.9"
  }
 },
 "nbformat": 4,
 "nbformat_minor": 5
}
